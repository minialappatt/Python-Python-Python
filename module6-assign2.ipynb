{
 "cells": [
  {
   "cell_type": "code",
   "execution_count": null,
   "id": "234a2711",
   "metadata": {},
   "outputs": [],
   "source": [
    "1. Generate a bar plot graph for the columns ‘carbs’ and ‘gear’.\n",
    "a. Map the ‘carbs’ onto the x-axis.\n",
    "b. Map the ‘gear’ onto the y-axis.\n",
    "c. Provide the x-axis label as Number of carburetors.\n",
    "d. Provide the y-axis label as Number of forward gears.\n",
    "e. Set the title as carbs vs gear."
   ]
  },
  {
   "cell_type": "code",
   "execution_count": 5,
   "id": "5ce9bdab",
   "metadata": {},
   "outputs": [
    {
     "data": {
      "text/plain": [
       "0     4\n",
       "1     4\n",
       "2     1\n",
       "3     1\n",
       "4     2\n",
       "5     1\n",
       "6     4\n",
       "7     2\n",
       "8     2\n",
       "9     4\n",
       "10    4\n",
       "11    3\n",
       "12    3\n",
       "13    3\n",
       "14    4\n",
       "15    4\n",
       "16    4\n",
       "17    1\n",
       "18    2\n",
       "19    1\n",
       "20    1\n",
       "21    2\n",
       "22    2\n",
       "23    4\n",
       "24    2\n",
       "25    1\n",
       "26    2\n",
       "27    2\n",
       "28    4\n",
       "29    6\n",
       "30    8\n",
       "31    2\n",
       "Name: carb, dtype: int64"
      ]
     },
     "execution_count": 5,
     "metadata": {},
     "output_type": "execute_result"
    }
   ],
   "source": [
    "import pandas as pd\n",
    "import matplotlib.pyplot as plt\n",
    "\n",
    "# Importing the CSV file\n",
    "data = pd.read_csv('cars.csv')\n",
    "data.head\n",
    "# Extracting the required columns\n",
    "carbs = data['carb']\n",
    "gear = data['gear']\n"
   ]
  },
  {
   "cell_type": "code",
   "execution_count": 6,
   "id": "9f115970",
   "metadata": {},
   "outputs": [
    {
     "data": {
      "image/png": "[encoded data removed]",
      "text/plain": [
       "<Figure size 640x480 with 1 Axes>"
      ]
     },
     "metadata": {},
     "output_type": "display_data"
    }
   ],
   "source": [
    "# Plotting the bar graph\n",
    "plt.bar(carbs, gear)\n",
    "\n",
    "# Setting labels and title\n",
    "plt.xlabel('Number of carburetors')\n",
    "plt.ylabel('Number of forward gears')\n",
    "plt.title('Carbs vs Gear')\n",
    "\n",
    "# Displaying the graph\n",
    "plt.show()"
   ]
  },
  {
   "cell_type": "code",
   "execution_count": null,
   "id": "cfe261d8",
   "metadata": {},
   "outputs": [],
   "source": []
  }
 ],
 "metadata": {
  "kernelspec": {
   "display_name": "Python 3 (ipykernel)",
   "language": "python",
   "name": "python3"
  },
  "language_info": {
   "codemirror_mode": {
    "name": "ipython",
    "version": 3
   },
   "file_extension": ".py",
   "mimetype": "text/x-python",
   "name": "python",
   "nbconvert_exporter": "python",
   "pygments_lexer": "ipython3",
   "version": "3.9.13"
  }
 },
 "nbformat": 4,
 "nbformat_minor": 5
}
