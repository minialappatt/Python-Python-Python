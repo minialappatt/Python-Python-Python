{
 "cells": [
  {
   "cell_type": "markdown",
   "id": "df30d957",
   "metadata": {},
   "source": [
    "#1)Input the values of a and b as 10 and 20 respectively. Now check if a is\n",
    "greater or b is greater using if condition. Think about all the edge cases,\n",
    "and print the statements accordingly.\n"
   ]
  },
  {
   "cell_type": "code",
   "execution_count": 3,
   "id": "d988e08f",
   "metadata": {},
   "outputs": [
    {
     "name": "stdout",
     "output_type": "stream",
     "text": [
      "a=b\n"
     ]
    }
   ],
   "source": [
    "a=10\n",
    "b=20\n",
    "if(a>b):\n",
    "    print(\"a is greater\")\n",
    "elif(a<b):\n",
    "    print(\"b is greater\")\n",
    "else:\n",
    "    print(\"a=b\")"
   ]
  },
  {
   "cell_type": "code",
   "execution_count": null,
   "id": "2f38ba1f",
   "metadata": {},
   "outputs": [],
   "source": [
    "#2)Take 3 user inputs and print the greatest number from those inputs using if else condition. \n",
    "Edge cases if any should also be handled."
   ]
  },
  {
   "cell_type": "code",
   "execution_count": 12,
   "id": "9020f29d",
   "metadata": {},
   "outputs": [
    {
     "name": "stdout",
     "output_type": "stream",
     "text": [
      "first number10\n",
      "second number10\n",
      "third number10\n",
      "a=b=c\n"
     ]
    }
   ],
   "source": [
    "a=int(input(\"first number\"))\n",
    "b=int(input(\"second number\"))\n",
    "c=int(input(\"third number\"))\n",
    "if(a>b and a>c):\n",
    "    print(\"a is greater\")\n",
    "elif(b>c and b>a):\n",
    "    print(\"b is greater\")\n",
    "elif(c>a and c>b):\n",
    "    print(\"c is greater\")    \n",
    "else:\n",
    "    print(\"a=b=c\")"
   ]
  },
  {
   "cell_type": "code",
   "execution_count": null,
   "id": "ecc6d97c",
   "metadata": {},
   "outputs": [],
   "source": [
    "#Loops . Print the numbers from 1 to 10 using while loop.\n"
   ]
  },
  {
   "cell_type": "code",
   "execution_count": 14,
   "id": "47ba9615",
   "metadata": {},
   "outputs": [
    {
     "name": "stdout",
     "output_type": "stream",
     "text": [
      "1\n",
      "2\n",
      "3\n",
      "4\n",
      "5\n",
      "6\n",
      "7\n",
      "8\n",
      "9\n",
      "10\n"
     ]
    }
   ],
   "source": [
    "x=1\n",
    "while(x<11):\n",
    "    print(x)\n",
    "    x+=1\n",
    "    "
   ]
  },
  {
   "cell_type": "code",
   "execution_count": null,
   "id": "8cd479bc",
   "metadata": {},
   "outputs": [],
   "source": [
    "#. Create a list that has 10, 23, 4, 26, 4, 75, 24, 54 values and with the help\n",
    "of while loop fetch the even numbers and print the numbers\n"
   ]
  },
  {
   "cell_type": "code",
   "execution_count": 30,
   "id": "5b99d1f9",
   "metadata": {},
   "outputs": [
    {
     "name": "stdout",
     "output_type": "stream",
     "text": [
      "10\n",
      "4\n",
      "26\n",
      "4\n",
      "24\n",
      "54\n",
      "[]\n"
     ]
    }
   ],
   "source": [
    "numbers=[10,23,4,26,4,75,24,54]\n",
    "even_numbers=[]\n",
    "index=0\n",
    "index\n",
    "while index<len(numbers):\n",
    "    if numbers[index]%2==0:\n",
    "        #even_numbers.append(numbers[index])\n",
    "        print(numbers[index])\n",
    "    index+=1\n",
    "#print(even_numbers)\n"
   ]
  },
  {
   "cell_type": "markdown",
   "id": "72db75ce",
   "metadata": {},
   "source": [
    "###Create an array that is having user defined inputs and with the help of for loop, fetch all the prime\n",
    "numbers and print the numbers.\n",
    "    "
   ]
  },
  {
   "cell_type": "code",
   "execution_count": 45,
   "id": "bdb3a6ac",
   "metadata": {},
   "outputs": [
    {
     "name": "stdout",
     "output_type": "stream",
     "text": [
      "enter the number of elements to check10\n",
      "enter the number to check for prime    1\n",
      "enter the number to check for prime    2\n",
      "enter the number to check for prime    3\n",
      "enter the number to check for prime    4\n",
      "enter the number to check for prime    5\n",
      "enter the number to check for prime    6\n",
      "enter the number to check for prime    7\n",
      "enter the number to check for prime    8\n",
      "enter the number to check for prime    9\n",
      "enter the number to check for prime    10\n",
      "given numbers [1, 2, 3, 4, 5, 6, 7, 8, 9, 10]\n",
      "prime numbers  [2, 3, 5, 7]\n"
     ]
    }
   ],
   "source": [
    "arr=[]\n",
    "p_arr=[]\n",
    "num=int(input(\"enter the number of elements to check\"))\n",
    "for i in range(num):\n",
    "    arr.append(int(input(\"enter the number to check for prime    \")))\n",
    "print(\"given numbers\",arr)\n",
    "for i in range(num):\n",
    "    if(arr[i]>1):\n",
    "        for j in range(2,i+1):\n",
    "            if(arr[i]%j==0):\n",
    "                break\n",
    "        else:\n",
    "            p_arr.append(arr[i])\n",
    "print (\"prime numbers \",p_arr)"
   ]
  },
  {
   "cell_type": "markdown",
   "id": "04255275",
   "metadata": {},
   "source": [
    "### \n"
   ]
  },
  {
   "cell_type": "code",
   "execution_count": null,
   "id": "46c6d87c",
   "metadata": {},
   "outputs": [],
   "source": [
    "          "
   ]
  },
  {
   "cell_type": "code",
   "execution_count": null,
   "id": "b924d358",
   "metadata": {},
   "outputs": [],
   "source": []
  },
  {
   "cell_type": "code",
   "execution_count": null,
   "id": "b89d12f3",
   "metadata": {},
   "outputs": [],
   "source": []
  }
 ],
 "metadata": {
  "kernelspec": {
   "display_name": "Python 3 (ipykernel)",
   "language": "python",
   "name": "python3"
  },
  "language_info": {
   "codemirror_mode": {
    "name": "ipython",
    "version": 3
   },
   "file_extension": ".py",
   "mimetype": "text/x-python",
   "name": "python",
   "nbconvert_exporter": "python",
   "pygments_lexer": "ipython3",
   "version": "3.9.13"
  }
 },
 "nbformat": 4,
 "nbformat_minor": 5
}
