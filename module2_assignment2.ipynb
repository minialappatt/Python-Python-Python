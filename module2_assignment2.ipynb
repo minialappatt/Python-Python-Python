{
 "cells": [
  {
   "cell_type": "code",
   "execution_count": null,
   "id": "28ae9a95",
   "metadata": {},
   "outputs": [],
   "source": [
    "1. Create a function named ‘factor’ that can only accepts 1 argument. The function should\n",
    "return the factorial of that number.\n"
   ]
  },
  {
   "cell_type": "code",
   "execution_count": 4,
   "id": "cb9a3433",
   "metadata": {},
   "outputs": [
    {
     "data": {
      "text/plain": [
       "5040"
      ]
     },
     "execution_count": 4,
     "metadata": {},
     "output_type": "execute_result"
    }
   ],
   "source": [
    "def factor(n):\n",
    "    #Returns the factorial of n\n",
    "    if n == 0:\n",
    "        return 1\n",
    "    else:\n",
    "        return n * factor(n-1)\n",
    "\n",
    "factor(7)"
   ]
  },
  {
   "cell_type": "code",
   "execution_count": null,
   "id": "72a875c5",
   "metadata": {},
   "outputs": [],
   "source": [
    "2. Create a function named ‘check_string’, the function should accept a string data from the\n",
    "user and the function should check if the user input contains the letter ‘s’ in it. If it contains\n",
    "the letter ‘s’ then print- ‘The string is containing the letter ‘s’’, if not then print- ‘The string\n",
    "doesn’t contain the letter ‘s’’."
   ]
  },
  {
   "cell_type": "code",
   "execution_count": 21,
   "id": "c8de15e2",
   "metadata": {},
   "outputs": [
    {
     "name": "stdout",
     "output_type": "stream",
     "text": [
      "enter string to checkwelcome to india\n",
      "welcome to india\n",
      "The string doesn't contain the letter 's'\n"
     ]
    }
   ],
   "source": [
    "def check_string(str1):\n",
    "   #Checks if the string s contains the letter 's'\n",
    "    if 's' in str1:\n",
    "        print(\"The string is containing the letter 's'\")\n",
    "    else:\n",
    "        print(\"The string doesn't contain the letter 's'\")\n",
    "        \n",
    "str1=input(\"enter string to check\")        \n",
    "print (str1)\n",
    "check_string(str1)"
   ]
  },
  {
   "cell_type": "code",
   "execution_count": null,
   "id": "29031d8e",
   "metadata": {},
   "outputs": [],
   "source": [
    "3. Create a class named ‘student’ and inside the class, create a function named ‘fun1’- this\n",
    "method should accepts the user defined input and return that value.\n",
    "a. Create another method named- message() and that method should print the user\n",
    "defined input that we have defined in ‘fun1’.\n"
   ]
  },
  {
   "cell_type": "code",
   "execution_count": 22,
   "id": "bf4d057a",
   "metadata": {},
   "outputs": [
    {
     "name": "stdout",
     "output_type": "stream",
     "text": [
      "Please enter a value: i am mini\n",
      "The value you entered is: i am mini\n"
     ]
    }
   ],
   "source": [
    "class student:\n",
    "    def fun1(self):\n",
    "      #Accepts user input and returns the value.\"\"\"\n",
    "        return input(\"Please enter a value: \")\n",
    "    \n",
    "    def message(self):\n",
    "      #Prints the user input received from fun1().\"\"\"\n",
    "        value = self.fun1()\n",
    "        print(\"The value you entered is:\", value)\n",
    "        \n",
    "s=student()\n",
    "s.message()"
   ]
  },
  {
   "cell_type": "code",
   "execution_count": null,
   "id": "ba9169d2",
   "metadata": {},
   "outputs": [],
   "source": [
    "4. Create a lambda function that should double or multiply the number (that we will be passing\n",
    "in the lambda function) by 2. Store the lambda function in a variable named ‘double_num’.\n"
   ]
  },
  {
   "cell_type": "code",
   "execution_count": 24,
   "id": "5bac6fe9",
   "metadata": {},
   "outputs": [
    {
     "data": {
      "text/plain": [
       "21.0"
      ]
     },
     "execution_count": 24,
     "metadata": {},
     "output_type": "execute_result"
    }
   ],
   "source": [
    "double_num = lambda x: x * 2\n",
    "\n",
    "#double_num(5)\n",
    "double_num(10.5)"
   ]
  },
  {
   "cell_type": "code",
   "execution_count": null,
   "id": "ab3fc2bf",
   "metadata": {},
   "outputs": [],
   "source": [
    "5. Take user input string and check whether that string is palindrome or not."
   ]
  },
  {
   "cell_type": "code",
   "execution_count": 26,
   "id": "7e0d172e",
   "metadata": {},
   "outputs": [
    {
     "name": "stdout",
     "output_type": "stream",
     "text": [
      "Enter a string: englisgh\n",
      "englisgh is not a palindrome\n"
     ]
    }
   ],
   "source": [
    "def is_palindrome(s):\n",
    "    #Checks whether the string s is a palindrome or not\n",
    "    return s == s[::-1]\n",
    "\n",
    "# Take input from the user\n",
    "string = input(\"Enter a string: \")\n",
    "\n",
    "# Check if the string is a palindrome\n",
    "if is_palindrome(string):\n",
    "    print(string, \"is a palindrome\")\n",
    "else:\n",
    "    print(string, \"is not a palindrome\")"
   ]
  },
  {
   "cell_type": "code",
   "execution_count": null,
   "id": "a5202e9a",
   "metadata": {},
   "outputs": [],
   "source": []
  }
 ],
 "metadata": {
  "kernelspec": {
   "display_name": "Python 3 (ipykernel)",
   "language": "python",
   "name": "python3"
  },
  "language_info": {
   "codemirror_mode": {
    "name": "ipython",
    "version": 3
   },
   "file_extension": ".py",
   "mimetype": "text/x-python",
   "name": "python",
   "nbconvert_exporter": "python",
   "pygments_lexer": "ipython3",
   "version": "3.9.13"
  }
 },
 "nbformat": 4,
 "nbformat_minor": 5
}
