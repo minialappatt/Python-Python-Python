{
 "cells": [
  {
   "cell_type": "markdown",
   "id": "5b99db36",
   "metadata": {},
   "source": [
    "1.Create a list named ‘myList’ that is having the following elements: 10,20,30,’apple’, True, 8.10.\n",
    "  a. Now in the ‘myList’, append these values: 30,40\n",
    "  b. After that reverse the elements of the ‘myList’ and store that in ‘reversedList’"
   ]
  },
  {
   "cell_type": "code",
   "execution_count": 1,
   "id": "aa284e97",
   "metadata": {},
   "outputs": [
    {
     "data": {
      "text/plain": [
       "[40, 30, 8.1, True, 'apple', 30, 20, 10]"
      ]
     },
     "execution_count": 1,
     "metadata": {},
     "output_type": "execute_result"
    }
   ],
   "source": [
    "myList = [10, 20, 30, 'apple', True, 8.10]\n",
    "myList\n",
    "myList.append(30)\n",
    "myList\n",
    "myList.append(40)\n",
    "myList\n",
    "reversedList = myList[::-1]\n",
    "reversedList"
   ]
  },
  {
   "cell_type": "markdown",
   "id": "2265ec2f",
   "metadata": {},
   "source": [
    "2. Create a dictonary with key values as 1,2,3 and the values as ‘data’,’information’, and ‘text’.\n",
    "  a. After that eliminate the ‘text’ value form the dictonary.\n",
    "  b. Add ‘features’ in the dictonary.\n",
    "  c. Fetch the ‘data’ element from the dictonary and display it in the output."
   ]
  },
  {
   "cell_type": "code",
   "execution_count": 12,
   "id": "fc49ffe9",
   "metadata": {},
   "outputs": [
    {
     "name": "stdout",
     "output_type": "stream",
     "text": [
      "data\n"
     ]
    }
   ],
   "source": [
    "myDict = {1: 'data', 2: 'information', 3: 'text'}\n",
    "myDict\n",
    "del myDict[3]\n",
    "myDict\n",
    "myDict['3'] = 'features'\n",
    "#myDict[]='features'\n",
    "myDict\n",
    "data_value = myDict[1]\n",
    "print(data_value)"
   ]
  },
  {
   "cell_type": "markdown",
   "id": "08454778",
   "metadata": {},
   "source": [
    "3. Create a tuple and add these elements 1,2,3,apple,mango in ‘my_tuple"
   ]
  },
  {
   "cell_type": "code",
   "execution_count": 14,
   "id": "6b79a9c8",
   "metadata": {},
   "outputs": [
    {
     "data": {
      "text/plain": [
       "(1, 2, 3, 'apple', 'mango')"
      ]
     },
     "execution_count": 14,
     "metadata": {},
     "output_type": "execute_result"
    }
   ],
   "source": [
    "my_tuple = (1, 2, 3, 'apple', 'mango')\n",
    "my_tuple"
   ]
  },
  {
   "cell_type": "markdown",
   "id": "68d2ec6a",
   "metadata": {},
   "source": [
    "4. Create another tuple named numeric_tuple consisting of only integer values 10,20,30,40,50\n",
    "  a. Find the minimum value from the numeric_tuple.\n",
    "  b. Concatenate my_tuple with numeric_tuple and store the result in r1.\n",
    "  c. Duplicate the tuple named my_tuple 2 times and store that in ‘newdupli’."
   ]
  },
  {
   "cell_type": "code",
   "execution_count": 21,
   "id": "8a38620d",
   "metadata": {},
   "outputs": [
    {
     "name": "stdout",
     "output_type": "stream",
     "text": [
      "min value 10\n",
      "value of r1 (1, 2, 3, 'apple', 'mango', 10, 20, 30, 40, 50)\n",
      "value of newdupli (1, 2, 3, 'apple', 'mango', 1, 2, 3, 'apple', 'mango')\n"
     ]
    }
   ],
   "source": [
    "numeric_tuple = (10, 20, 30, 40, 50)\n",
    "numeric_tuple\n",
    "min_value = min(numeric_tuple)\n",
    "print('min value',min_value)\n",
    "r1 = my_tuple + numeric_tuple\n",
    "print('value of r1',r1)\n",
    "newdupli = my_tuple * 2\n",
    "print('value of newdupli',newdupli)"
   ]
  },
  {
   "cell_type": "markdown",
   "id": "ad06d8cc",
   "metadata": {},
   "source": [
    "5. Create 2 sets with name set1 and set2, where set1 contains{1,2,3,4,5} and set2 to contains{2,3,7,6,1}\n",
    "   a. Perform the below operation:\n",
    "     a. set1 union set2\n",
    "     b. set1 intersection set2\n",
    "     c. set1 difference set2"
   ]
  },
  {
   "cell_type": "code",
   "execution_count": 27,
   "id": "45957445",
   "metadata": {},
   "outputs": [
    {
     "name": "stdout",
     "output_type": "stream",
     "text": [
      "union of set n set2 {1, 2, 3, 4, 5, 6, 7}\n",
      "intersection of set1 n set2 {1, 2, 3}\n",
      "{4, 5}\n"
     ]
    }
   ],
   "source": [
    "set1 = {1, 2, 3, 4, 5}\n",
    "set2 = {2, 3, 7, 6, 1}\n",
    "#union_set = set1.union(set2)\n",
    "union_set = set1 | set2 #or this\n",
    "print('union of set n set2',union_set)\n",
    "#intersection_set = set1.intersection(set2)\n",
    "intersection_set = set1 & set2   #or this\n",
    "print('intersection of set1 n set2',intersection_set)\n",
    "#difference_set = set1.difference(set2)\n",
    "difference_set = set1 - set2 #or this\n",
    "print(difference_set)"
   ]
  },
  {
   "cell_type": "code",
   "execution_count": null,
   "id": "6daed2ec",
   "metadata": {},
   "outputs": [],
   "source": []
  }
 ],
 "metadata": {
  "kernelspec": {
   "display_name": "Python 3 (ipykernel)",
   "language": "python",
   "name": "python3"
  },
  "language_info": {
   "codemirror_mode": {
    "name": "ipython",
    "version": 3
   },
   "file_extension": ".py",
   "mimetype": "text/x-python",
   "name": "python",
   "nbconvert_exporter": "python",
   "pygments_lexer": "ipython3",
   "version": "3.9.13"
  }
 },
 "nbformat": 4,
 "nbformat_minor": 5
}
