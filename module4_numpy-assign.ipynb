{
 "cells": [
  {
   "cell_type": "markdown",
   "id": "e756ae6a",
   "metadata": {},
   "source": [
    "1. Create a 3x3 matrix array with values ranging from 2 to 10."
   ]
  },
  {
   "cell_type": "code",
   "execution_count": 3,
   "id": "824a3a16",
   "metadata": {},
   "outputs": [
    {
     "name": "stdout",
     "output_type": "stream",
     "text": [
      "[[ 2  3  4]\n",
      " [ 5  6  7]\n",
      " [ 8  9 10]]\n"
     ]
    }
   ],
   "source": [
    "import numpy as np\n",
    "\n",
    "matrix_array = np.arange(2, 11).reshape(3, 3)\n",
    "print(matrix_array)\n"
   ]
  },
  {
   "cell_type": "markdown",
   "id": "d4af3dcb",
   "metadata": {},
   "source": [
    "2. Create a numpy array having user input values and convert the integer type to the float type of the elements of the array. For instance:\n",
    "Original array [1, 2, 3, 4] Array converted to a float type: [ 1. 2. 3. 4.]"
   ]
  },
  {
   "cell_type": "code",
   "execution_count": 5,
   "id": "50b43d48",
   "metadata": {},
   "outputs": [
    {
     "name": "stdout",
     "output_type": "stream",
     "text": [
      "Array converted to a float type:\n",
      "[[ 2.  3.  4.]\n",
      " [ 5.  6.  7.]\n",
      " [ 8.  9. 10.]]\n"
     ]
    }
   ],
   "source": [
    "arr_float =matrix_array.astype(float)\n",
    "print(\"Array converted to a float type:\")\n",
    "print( arr_float)"
   ]
  },
  {
   "cell_type": "markdown",
   "id": "4555cb36",
   "metadata": {},
   "source": [
    "3. Write a Numpy program to append values to the end of an array. For instance:\n",
    "Original array: [10, 20, 30] After append values to the end of the array: [10 20 30 40 50 60 70 80 90]"
   ]
  },
  {
   "cell_type": "code",
   "execution_count": 6,
   "id": "88d33e22",
   "metadata": {},
   "outputs": [
    {
     "name": "stdout",
     "output_type": "stream",
     "text": [
      "Original array: [10 20 30]\n",
      "After append values to the end of the array: [10 20 30 40 50 60 70 80 90]\n"
     ]
    }
   ],
   "source": [
    "original_array = np.array([10, 20, 30])\n",
    "values_to_append = np.array([40, 50, 60, 70, 80, 90])\n",
    "appended_array = np.append(original_array, values_to_append)\n",
    "print(\"Original array:\", original_array)\n",
    "print(\"After append values to the end of the array:\", appended_array)"
   ]
  },
  {
   "cell_type": "markdown",
   "id": "5cf51dd2",
   "metadata": {},
   "source": [
    "4. Create two numpy arrays and add the elements of both the arrays and store the result in sumArray."
   ]
  },
  {
   "cell_type": "code",
   "execution_count": 7,
   "id": "21c839ec",
   "metadata": {},
   "outputs": [
    {
     "name": "stdout",
     "output_type": "stream",
     "text": [
      "sumArray: [ 7  9 11 13 15]\n"
     ]
    }
   ],
   "source": [
    "array1 = np.array([1, 2, 3, 4, 5])\n",
    "array2 = np.array([6, 7, 8, 9, 10])\n",
    "sumArray = array1 + array2\n",
    "print(\"sumArray:\", sumArray)"
   ]
  },
  {
   "cell_type": "markdown",
   "id": "21a33cbb",
   "metadata": {},
   "source": [
    "5. Create a 3*3 array having values from 10-90(interval of 10) and store that in array1. Perform the following tasks:\n",
    "a. Extract the 1st row from the array.\n",
    "b. Extract the last element from the array."
   ]
  },
  {
   "cell_type": "code",
   "execution_count": 12,
   "id": "3f771f74",
   "metadata": {},
   "outputs": [
    {
     "name": "stdout",
     "output_type": "stream",
     "text": [
      "array [[10 20 30]\n",
      " [40 50 60]\n",
      " [70 80 90]]\n",
      "Last element: 90\n"
     ]
    }
   ],
   "source": [
    "array1 = np.arange(10, 100, 10).reshape(3, 3)\n",
    "print('array',array1)\n",
    "first_row = array1[0, :]\n",
    "first_row\n",
    "last_element = array1[-1, -1]\n",
    "print(\"Last element:\", last_element)"
   ]
  },
  {
   "cell_type": "code",
   "execution_count": null,
   "id": "6d88ea1b",
   "metadata": {},
   "outputs": [],
   "source": []
  }
 ],
 "metadata": {
  "kernelspec": {
   "display_name": "Python 3 (ipykernel)",
   "language": "python",
   "name": "python3"
  },
  "language_info": {
   "codemirror_mode": {
    "name": "ipython",
    "version": 3
   },
   "file_extension": ".py",
   "mimetype": "text/x-python",
   "name": "python",
   "nbconvert_exporter": "python",
   "pygments_lexer": "ipython3",
   "version": "3.9.13"
  }
 },
 "nbformat": 4,
 "nbformat_minor": 5
}
