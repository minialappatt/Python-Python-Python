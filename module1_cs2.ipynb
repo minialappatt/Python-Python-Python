{
 "cells": [
  {
   "cell_type": "markdown",
   "id": "170c1e21",
   "metadata": {},
   "source": [
    "Problem Statement:\n",
    "Consider yourself to be Sam who is a data scientist. He has been invited as a guest lecturer at a college\n",
    "to take an introductory session on Python. "
   ]
  },
  {
   "cell_type": "markdown",
   "id": "91415d3e",
   "metadata": {},
   "source": [
    "Tasks to be performed:"
   ]
  },
  {
   "cell_type": "markdown",
   "id": "dc39496d",
   "metadata": {},
   "source": [
    "1. Create 1st tuple with values -> (10,20,30), 2nd tuple with values -> (40,50,60).\n",
    "a. Concatenate the two tuples and store it in “t_combine”\n",
    "b. Repeat the elements of “t_combine” 3 times\n",
    "c. Access the 3rd element from “t_combine”\n",
    "d. Access the first three elements from “t_combine”\n",
    "e. Access the last three elements from “t_combine”"
   ]
  },
  {
   "cell_type": "code",
   "execution_count": 17,
   "id": "d9c0fc47",
   "metadata": {},
   "outputs": [
    {
     "name": "stdout",
     "output_type": "stream",
     "text": [
      "original tuple (10, 20, 30, 40, 50, 60)\n",
      "elements multiplied (10, 20, 30, 40, 50, 60, 10, 20, 30, 40, 50, 60, 10, 20, 30, 40, 50, 60)\n",
      "3rd element 30\n",
      "first 3 elements of t_combine (10, 20, 30)\n",
      "last 3 elements of t_combine (40, 50, 60)\n"
     ]
    }
   ],
   "source": [
    "t1=(10,20,30)\n",
    "t2=(40,50,60)\n",
    "t_combine=t1+t2\n",
    "print(\"original tuple\",t_combine)\n",
    "print(\"elements multiplied\",t_combine*3)\n",
    "print(\"3rd element\",t_combine[2])\n",
    "print(\"first 3 elements of t_combine\",t_combine[0:3])\n",
    "print(\"last 3 elements of t_combine\",t_combine[3::])"
   ]
  },
  {
   "cell_type": "markdown",
   "id": "367a9771",
   "metadata": {},
   "source": [
    "2. Create a list ‘my_list’ with these elements:\n",
    "a. First element is a tuple with values 1,2,3\n",
    "b. Second element is a tuple with values “a”,”b”,”c”\n",
    "c. Third element is a tuple with values True,False "
   ]
  },
  {
   "cell_type": "code",
   "execution_count": 23,
   "id": "8720cd49",
   "metadata": {},
   "outputs": [
    {
     "name": "stdout",
     "output_type": "stream",
     "text": [
      "(1, 2, 3)\n",
      "('a', 'b', 'c')\n",
      "(True, False)\n",
      "[(1, 2, 3, 'a', 'b', 'c', True, False)]\n"
     ]
    }
   ],
   "source": [
    "f1=(1,2,3)\n",
    "s1=(\"a\",\"b\",\"c\")\n",
    "t1=(True,False)\n",
    "my_list=[f1+s1+t1]\n",
    "print(f1)\n",
    "print(s1)\n",
    "print(t1)\n",
    "print(my_list)"
   ]
  },
  {
   "cell_type": "markdown",
   "id": "cc94d50f",
   "metadata": {},
   "source": [
    "3. Append a new tuple – (1,\"a\",True) to ‘my_list’\n",
    "a. Append a new list – *“sparta”,123 to my_list "
   ]
  },
  {
   "cell_type": "code",
   "execution_count": 9,
   "id": "9d7cb0e2",
   "metadata": {},
   "outputs": [
    {
     "name": "stdout",
     "output_type": "stream",
     "text": [
      "[(1, 'a', True), ['sparta', 123]]\n"
     ]
    }
   ],
   "source": [
    "\n",
    "my_list=[]\n",
    "my_list.append((1,\"a\",True))\n",
    "my_list.append([\"sparta\",123])\n",
    "print(my_list)"
   ]
  },
  {
   "cell_type": "markdown",
   "id": "95257956",
   "metadata": {},
   "source": [
    "4. Create a dictionary ‘fruit’ where:\n",
    "a. The first key is ‘Fruit’ and the values are (“Apple”,”Banana”,”Mango”,”Guava”)\n",
    "b. The second key is ‘Cost’ and the values are (85,54,120,70)\n",
    "c. Extract all the keys from ‘fruit’\n",
    "d. Extract all the values from ‘fruit’"
   ]
  },
  {
   "cell_type": "code",
   "execution_count": 10,
   "id": "b386ea70",
   "metadata": {},
   "outputs": [
    {
     "name": "stdout",
     "output_type": "stream",
     "text": [
      "Keys: dict_keys(['Fruit', 'Cost'])\n",
      "Values: dict_values([('Apple', 'Banana', 'Mango', 'Guava'), (85, 54, 120, 70)])\n"
     ]
    }
   ],
   "source": [
    "fruit={'Fruit': ('Apple', 'Banana', 'Mango', 'Guava'),\n",
    "         'Cost': (85, 54, 120, 70)}\n",
    "keys=fruit.keys()\n",
    "values=fruit.values()\n",
    "print('Keys:', keys)\n",
    "print('Values:', values)"
   ]
  },
  {
   "cell_type": "markdown",
   "id": "b0835da9",
   "metadata": {},
   "source": [
    "5. Crete a set named ‘my_set’ with values (1,1,”a”,”a”,True,True) and print the result "
   ]
  },
  {
   "cell_type": "code",
   "execution_count": 12,
   "id": "3eb42292",
   "metadata": {},
   "outputs": [
    {
     "name": "stdout",
     "output_type": "stream",
     "text": [
      "{1, 'a'}\n"
     ]
    }
   ],
   "source": [
    "my_set = {1, 1, \"a\", \"a\", True, True,True}\n",
    "print(my_set)\n"
   ]
  },
  {
   "cell_type": "code",
   "execution_count": null,
   "id": "ac74703e",
   "metadata": {},
   "outputs": [],
   "source": []
  }
 ],
 "metadata": {
  "kernelspec": {
   "display_name": "Python 3 (ipykernel)",
   "language": "python",
   "name": "python3"
  },
  "language_info": {
   "codemirror_mode": {
    "name": "ipython",
    "version": 3
   },
   "file_extension": ".py",
   "mimetype": "text/x-python",
   "name": "python",
   "nbconvert_exporter": "python",
   "pygments_lexer": "ipython3",
   "version": "3.9.13"
  }
 },
 "nbformat": 4,
 "nbformat_minor": 5
}
