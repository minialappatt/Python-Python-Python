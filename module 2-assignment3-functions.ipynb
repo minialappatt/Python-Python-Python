{
 "cells": [
  {
   "cell_type": "markdown",
   "id": "0220397f",
   "metadata": {},
   "source": [
    "1. Create a class named ‘Super’ and inside that class define a user-defined function named\n",
    "fun1.\n",
    "a. Inside the ‘fun1’ function, pass the message “This is function 1 in the Super class.”\n",
    "in the print statement.\n"
   ]
  },
  {
   "cell_type": "code",
   "execution_count": 1,
   "id": "9e93a94c",
   "metadata": {},
   "outputs": [
    {
     "name": "stdout",
     "output_type": "stream",
     "text": [
      "This is function 1 in the Super class.\n"
     ]
    }
   ],
   "source": [
    "class Super:\n",
    "    def fun1(self):\n",
    "        print(\"This is function 1 in the Super class.\")\n",
    "        \n",
    "s = Super()\n",
    "s.fun1()\n"
   ]
  },
  {
   "cell_type": "markdown",
   "id": "6d1dca9f",
   "metadata": {},
   "source": [
    "2. Create another classed named ‘Modified_Super’ and inherit this class from the Super class.\n",
    "a. Inside the Modified_Super class, create a function named ‘fun1’ and pass the\n",
    "following message inside the print statement: ‘This is function 1 in the Modified\n",
    "Super class.’\n",
    "b. Create another user-defined function named ‘fun2’ and pass the message: ‘This is\n",
    "the 2\n",
    "nd function from the Modified Super class’ in the print statement.\n",
    "c. After that, now create an object for the Modified_Super class and call the fun1()."
   ]
  },
  {
   "cell_type": "code",
   "execution_count": 3,
   "id": "f8c717e6",
   "metadata": {},
   "outputs": [
    {
     "name": "stdout",
     "output_type": "stream",
     "text": [
      "This is function 1 in the Modified Super class.\n",
      "This is the 2nd function from the Modified Super class.\n"
     ]
    }
   ],
   "source": [
    "class Modified_Super(Super):\n",
    "    def fun1(self):\n",
    "        print(\"This is function 1 in the Modified Super class.\")\n",
    "\n",
    "    def fun2(self):\n",
    "        print(\"This is the 2nd function from the Modified Super class.\")\n",
    "        \n",
    "m = Modified_Super()\n",
    "m.fun1()\n",
    "m.fun2()"
   ]
  },
  {
   "cell_type": "markdown",
   "id": "e03c0f87",
   "metadata": {},
   "source": [
    "3. Create 2 methods named ‘Hello’. In the 1st Hello method, pass only one argument and pass\n",
    "this message: ‘This function is only having 1 argument’. And in the 2nd Hello method, pass\n",
    "two arguments and pass this message: ‘This function is having 2 arguments’.\n",
    "a. Try to call both the methods and analyze the output of both the methods.\n"
   ]
  },
  {
   "cell_type": "code",
   "execution_count": 13,
   "id": "90a5fd38",
   "metadata": {},
   "outputs": [
    {
     "name": "stdout",
     "output_type": "stream",
     "text": [
      "This function is having 2 arguments. school college\n"
     ]
    }
   ],
   "source": [
    "class MyClass:\n",
    "    def Hello(self, arg1):\n",
    "        print(\"This function is only having 1 argument.\",arg1)\n",
    "\n",
    "    def Hello(self, arg1, arg2):\n",
    "        print(\"This function is having 2 arguments.\",arg1,arg2)\n",
    "        \n",
    "m = MyClass()\n",
    "#m.Hello(\"mini\")\n",
    "m.Hello(\"school\",\"college\")       \n"
   ]
  },
  {
   "cell_type": "markdown",
   "id": "ec55da20",
   "metadata": {},
   "source": [
    "4. Create a method named ‘Sum’ that can accept multiple user inputs. Now add those userdefined input values using for loop and the function should return the addition of the\n",
    "numbers."
   ]
  },
  {
   "cell_type": "code",
   "execution_count": null,
   "id": "e62a56fe",
   "metadata": {},
   "outputs": [],
   "source": [
    "#####check to add user input n array/list"
   ]
  },
  {
   "cell_type": "code",
   "execution_count": 14,
   "id": "88f33a17",
   "metadata": {},
   "outputs": [
    {
     "name": "stdout",
     "output_type": "stream",
     "text": [
      "15\n"
     ]
    }
   ],
   "source": [
    "class MyClass:\n",
    "    def Sum(self, *args):\n",
    "        total = 0\n",
    "        for num in args:\n",
    "            total += num\n",
    "        return total\n",
    "\n",
    "m = MyClass()\n",
    "result = m.Sum(1, 2, 3, 4, 5)\n",
    "print(result)"
   ]
  },
  {
   "cell_type": "markdown",
   "id": "2327bdf0",
   "metadata": {},
   "source": [
    "5. Create a class named ‘Encapsulation’:\n",
    "a. Inside the class, first create a constructor. Inside the constructor, initialize\n",
    "originalValue variable as 10.\n",
    "b. After creating the constructor, define a function named ‘Value’ and this function\n",
    "should return the variable that we have initialized in the constructor.\n",
    "c. Now create 2nd function named setValue, and pass an argument named\n",
    "‘newValue’. The task of this function will be to replace the value of the\n",
    "originalValue variable by the value of newValue variable."
   ]
  },
  {
   "cell_type": "code",
   "execution_count": 15,
   "id": "0373e437",
   "metadata": {},
   "outputs": [
    {
     "name": "stdout",
     "output_type": "stream",
     "text": [
      "10\n",
      "20\n"
     ]
    }
   ],
   "source": [
    "class Encapsulation:\n",
    "    def __init__(self):\n",
    "        self.originalValue = 10\n",
    "\n",
    "    def Value(self):\n",
    "        return self.originalValue\n",
    "\n",
    "    def setValue(self, newValue):\n",
    "        self.originalValue = newValue\n",
    "        \n",
    "e = Encapsulation()\n",
    "print(e.Value()) \n",
    "e.setValue(20)\n",
    "print(e.Value()) "
   ]
  },
  {
   "cell_type": "code",
   "execution_count": null,
   "id": "87b8e293",
   "metadata": {},
   "outputs": [],
   "source": []
  }
 ],
 "metadata": {
  "kernelspec": {
   "display_name": "Python 3 (ipykernel)",
   "language": "python",
   "name": "python3"
  },
  "language_info": {
   "codemirror_mode": {
    "name": "ipython",
    "version": 3
   },
   "file_extension": ".py",
   "mimetype": "text/x-python",
   "name": "python",
   "nbconvert_exporter": "python",
   "pygments_lexer": "ipython3",
   "version": "3.9.13"
  }
 },
 "nbformat": 4,
 "nbformat_minor": 5
}
