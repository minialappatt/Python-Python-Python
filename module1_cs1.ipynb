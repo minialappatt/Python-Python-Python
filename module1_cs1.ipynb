{
 "cells": [
  {
   "cell_type": "code",
   "execution_count": null,
   "id": "f2391993",
   "metadata": {},
   "outputs": [],
   "source": [
    "# 1.create a list containing squares of numbers from 1 to 10(use list comprehension)"
   ]
  },
  {
   "cell_type": "code",
   "execution_count": 5,
   "id": "837a2fc2",
   "metadata": {},
   "outputs": [
    {
     "name": "stdout",
     "output_type": "stream",
     "text": [
      "[1, 2, 3, 4, 5, 6, 7, 8, 9]\n",
      "[1, 4, 9, 16, 25, 36, 49, 64, 81]\n"
     ]
    }
   ],
   "source": [
    "s_list=[]\n",
    "s_list1=[]\n",
    "for i in range(1,10):\n",
    "    x=i*i\n",
    "    s_list.append(i)\n",
    "    s_list1.append(x)\n",
    "print(s_list)\n",
    "print(s_list1)"
   ]
  },
  {
   "cell_type": "code",
   "execution_count": null,
   "id": "bbab6219",
   "metadata": {},
   "outputs": [],
   "source": [
    "#2.write function to check if year number is leap year"
   ]
  },
  {
   "cell_type": "code",
   "execution_count": 9,
   "id": "fc9c3e24",
   "metadata": {},
   "outputs": [
    {
     "name": "stdout",
     "output_type": "stream",
     "text": [
      "enter the year to check 2002\n",
      "2002 is a not leap year\n"
     ]
    }
   ],
   "source": [
    "def leap_year(year):\n",
    "    if(year%4==0):\n",
    "        print(year,\"is a leap year\")\n",
    "    else:\n",
    "        print(year,\"is a not leap year\")\n",
    "year=int(input(\"enter the year to check \"))\n",
    "leap_year(year)"
   ]
  },
  {
   "cell_type": "code",
   "execution_count": 8,
   "id": "0b631efb",
   "metadata": {},
   "outputs": [],
   "source": [
    "#3.write function to take an array and return another array that contains the members of first array that are even"
   ]
  },
  {
   "cell_type": "code",
   "execution_count": 13,
   "id": "4d367590",
   "metadata": {},
   "outputs": [
    {
     "name": "stdout",
     "output_type": "stream",
     "text": [
      "enter no of elements to be checked5\n",
      "enter the numbers to check1\n",
      "enter the numbers to check2\n",
      "enter the numbers to check3\n",
      "enter the numbers to check4\n",
      "enter the numbers to check5\n",
      "numbers given [1, 2, 3, 4, 5]\n",
      "even numbers [2, 4]\n"
     ]
    }
   ],
   "source": [
    "f_array=[]\n",
    "s_array=[]\n",
    "n=int(input(\"enter no of elements to be checked\"))\n",
    "for i in range(n):\n",
    "    f_array.append(int(input(\"enter the numbers to check\")))\n",
    "for i in range(n):\n",
    "    if(f_array[i]%2==0):\n",
    "        s_array.append(f_array[i])\n",
    "        \n",
    "print(\"numbers given\",f_array)\n",
    "print(\"even numbers\",s_array)\n"
   ]
  },
  {
   "cell_type": "code",
   "execution_count": 23,
   "id": "d404712d",
   "metadata": {},
   "outputs": [
    {
     "name": "stdout",
     "output_type": "stream",
     "text": [
      "enter no of elements to be checked5\n",
      "enter the numbers to check1\n",
      "enter the numbers to check2\n",
      "enter the numbers to check3\n",
      "enter the numbers to check4\n",
      "enter the numbers to check5\n",
      "enter no of elements to be checked3\n",
      "enter the numbers to check3\n",
      "enter the numbers to check4\n",
      "enter the numbers to check5\n",
      "first set of numbers [1, 2, 3, 4, 5]\n",
      "second set of numbers [3, 4, 5]\n",
      "common numbers [3, 4, 5]\n"
     ]
    }
   ],
   "source": [
    "#4.write function that takes 2 arrays and prints the members of first array that are present of second array\n",
    "#(use membership comprehension)\n",
    "f_array=[]\n",
    "s_array=[]\n",
    "p_array=[]\n",
    "\n",
    "n1=int(input(\"enter no of elements to be checked\"))\n",
    "for i in range(n1):\n",
    "    f_array.append(int(input(\"enter the numbers to check\")))\n",
    "    \n",
    "n2=int(input(\"enter no of elements to be checked\"))\n",
    "for i in range(n2):\n",
    "    s_array.append(int(input(\"enter the numbers to check\")))\n",
    "   \n",
    "for i in range(n1):\n",
    "    for j in range(n2):\n",
    "        if(f_array[i]==s_array[j]):\n",
    "            p_array.append(s_array[j])\n",
    "        \n",
    "print(\"first set of numbers\",f_array)\n",
    "print(\"second set of numbers\",s_array)\n",
    "print(\"common numbers\",p_array)                          "
   ]
  },
  {
   "cell_type": "code",
   "execution_count": null,
   "id": "82b277fc",
   "metadata": {},
   "outputs": [],
   "source": []
  }
 ],
 "metadata": {
  "kernelspec": {
   "display_name": "Python 3 (ipykernel)",
   "language": "python",
   "name": "python3"
  },
  "language_info": {
   "codemirror_mode": {
    "name": "ipython",
    "version": 3
   },
   "file_extension": ".py",
   "mimetype": "text/x-python",
   "name": "python",
   "nbconvert_exporter": "python",
   "pygments_lexer": "ipython3",
   "version": "3.9.13"
  }
 },
 "nbformat": 4,
 "nbformat_minor": 5
}
