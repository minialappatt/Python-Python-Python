{
 "cells": [
  {
   "cell_type": "code",
   "execution_count": 13,
   "id": "87b64b8b",
   "metadata": {},
   "outputs": [],
   "source": [
    "import pandas as pd\n",
    "import numpy as np\n",
    "# Read the CSV file and store it in a DataFrame\n",
    "cars_df = pd.read_csv('cars.csv')\n",
    "\n",
    "# Display the DataFrame\n",
    "#print(churn_df)"
   ]
  },
  {
   "cell_type": "markdown",
   "id": "cd91c307",
   "metadata": {},
   "source": [
    "1. Write a function that takes start and end of a range returns a pandas series\n",
    "object containing numbers within that range.\n",
    "In case the user does not pass start or end or both they should default to 1\n",
    "and 10 respectively. E.g:\n",
    "-> range_series() -> Should Return a pandas series from 1 to 10\n",
    "range_series(5) -> Should Return a pandas series from 5 to 10\n",
    "range_series(5, 10) -> Should Return a pandas series from 5 to 15\n",
    "Create a method that takes n NumPy arrays of the same dimensions,\n",
    "sums them and returns the answer."
   ]
  },
  {
   "cell_type": "code",
   "execution_count": 5,
   "id": "25d39c52",
   "metadata": {},
   "outputs": [
    {
     "data": {
      "text/plain": [
       "0     20\n",
       "1     21\n",
       "2     22\n",
       "3     23\n",
       "4     24\n",
       "5     25\n",
       "6     26\n",
       "7     27\n",
       "8     28\n",
       "9     29\n",
       "10    30\n",
       "dtype: int64"
      ]
     },
     "execution_count": 5,
     "metadata": {},
     "output_type": "execute_result"
    }
   ],
   "source": [
    "\n",
    "def range_series(start=1, end=10):\n",
    "    series = pd.Series(range(start, end+1))\n",
    "    return series\n",
    "#range_series()\n",
    "range_series(20,30)"
   ]
  },
  {
   "cell_type": "code",
   "execution_count": 8,
   "id": "4b41fa07",
   "metadata": {},
   "outputs": [
    {
     "data": {
      "text/plain": [
       "array([30,  3,  5])"
      ]
     },
     "execution_count": 8,
     "metadata": {},
     "output_type": "execute_result"
    }
   ],
   "source": [
    "import numpy as np\n",
    "\n",
    "def sum_arrays(*arrays):\n",
    "    result = np.zeros_like(arrays[0])\n",
    "    for array in arrays:\n",
    "        result += array\n",
    "    return result\n",
    "sum_arrays([10,1,2],[20,2,3])"
   ]
  },
  {
   "cell_type": "markdown",
   "id": "e48bf61a",
   "metadata": {},
   "source": [
    "2. Create a function that takes in two lists named keys and values as\n",
    "arguments\n",
    "Keys would be strings and contain n string values\n",
    "Values would be a list containing n lists\n",
    "The methods should return a new pandas DataFrame with keys as column\n",
    "names and values as their corresponding values, e.g:\n",
    "->create_dataframe([\"One\", \"Two\"], [[\"X\", \"Y\"], [\"A\", \"B\"]]) -> should return a\n",
    "data frame\n",
    "One Two\n",
    "0 X A\n",
    "1 Y B"
   ]
  },
  {
   "cell_type": "code",
   "execution_count": 10,
   "id": "99a087d1",
   "metadata": {},
   "outputs": [
    {
     "data": {
      "text/html": [
       "<div>\n",
       "<style scoped>\n",
       "    .dataframe tbody tr th:only-of-type {\n",
       "        vertical-align: middle;\n",
       "    }\n",
       "\n",
       "    .dataframe tbody tr th {\n",
       "        vertical-align: top;\n",
       "    }\n",
       "\n",
       "    .dataframe thead th {\n",
       "        text-align: right;\n",
       "    }\n",
       "</style>\n",
       "<table border=\"1\" class=\"dataframe\">\n",
       "  <thead>\n",
       "    <tr style=\"text-align: right;\">\n",
       "      <th></th>\n",
       "      <th>One</th>\n",
       "      <th>Two</th>\n",
       "    </tr>\n",
       "  </thead>\n",
       "  <tbody>\n",
       "    <tr>\n",
       "      <th>0</th>\n",
       "      <td>X</td>\n",
       "      <td>A</td>\n",
       "    </tr>\n",
       "    <tr>\n",
       "      <th>1</th>\n",
       "      <td>Y</td>\n",
       "      <td>B</td>\n",
       "    </tr>\n",
       "  </tbody>\n",
       "</table>\n",
       "</div>"
      ],
      "text/plain": [
       "  One Two\n",
       "0   X   A\n",
       "1   Y   B"
      ]
     },
     "execution_count": 10,
     "metadata": {},
     "output_type": "execute_result"
    }
   ],
   "source": [
    "def create_dataframe(keys, values):\n",
    "    data = dict(zip(keys, values))\n",
    "    df = pd.DataFrame(data)\n",
    "    return df\n",
    "create_dataframe([\"One\", \"Two\"], [[\"X\", \"Y\"], [\"A\", \"B\"]])"
   ]
  },
  {
   "cell_type": "markdown",
   "id": "ccd5f6dc",
   "metadata": {},
   "source": [
    "3. Create a function that concatenates two DataFrames. Use a previously\n",
    "created function to create two DataFrames and pass them as parameters\n",
    "Make sure that the indexes are reset before returning."
   ]
  },
  {
   "cell_type": "code",
   "execution_count": 11,
   "id": "f0040378",
   "metadata": {},
   "outputs": [
    {
     "name": "stdout",
     "output_type": "stream",
     "text": [
      "   One  Two Three Four\n",
      "0    X    A   NaN  NaN\n",
      "1    Y    B   NaN  NaN\n",
      "2  NaN  NaN     C    E\n",
      "3  NaN  NaN     D    F\n"
     ]
    }
   ],
   "source": [
    "def concatenate_dataframes(df1, df2):\n",
    "    combined_df = pd.concat([df1, df2], ignore_index=True)\n",
    "    return combined_df\n",
    "df1 = create_dataframe([\"One\", \"Two\"], [[\"X\", \"Y\"], [\"A\", \"B\"]])\n",
    "df2 = create_dataframe([\"Three\", \"Four\"], [[\"C\", \"D\"], [\"E\", \"F\"]])\n",
    "\n",
    "\n",
    "combined_df = concatenate_dataframes(df1, df2)\n",
    "\n",
    "print(combined_df)"
   ]
  },
  {
   "cell_type": "markdown",
   "id": "2eaeb326",
   "metadata": {},
   "source": [
    "4. Write code to load data from cars.csv into a dataframe and print its details.\n",
    "Details like: 'count', 'mean', 'std', 'min', '25%', '50%', '75%', 'max'."
   ]
  },
  {
   "cell_type": "code",
   "execution_count": 14,
   "id": "08d59a79",
   "metadata": {},
   "outputs": [
    {
     "name": "stdout",
     "output_type": "stream",
     "text": [
      "            S.No        mpg        cyl        disp          hp       drat  \\\n",
      "count  32.000000  32.000000  32.000000   32.000000   32.000000  32.000000   \n",
      "mean   16.500000  20.090625   6.187500  230.721875  146.687500   3.596563   \n",
      "std     9.380832   6.026948   1.785922  123.938694   68.562868   0.534679   \n",
      "min     1.000000  10.400000   4.000000   71.100000   52.000000   2.760000   \n",
      "25%     8.750000  15.425000   4.000000  120.825000   96.500000   3.080000   \n",
      "50%    16.500000  19.200000   6.000000  196.300000  123.000000   3.695000   \n",
      "75%    24.250000  22.800000   8.000000  326.000000  180.000000   3.920000   \n",
      "max    32.000000  33.900000   8.000000  472.000000  335.000000   4.930000   \n",
      "\n",
      "              wt       qsec         vs         am       gear     carb  \n",
      "count  32.000000  29.000000  32.000000  32.000000  32.000000  32.0000  \n",
      "mean    3.217250  17.674828   0.437500   0.406250   3.687500   2.8125  \n",
      "std     0.978457   1.780394   0.504016   0.498991   0.737804   1.6152  \n",
      "min     1.513000  14.500000   0.000000   0.000000   3.000000   1.0000  \n",
      "25%     2.581250  16.870000   0.000000   0.000000   3.000000   2.0000  \n",
      "50%     3.325000  17.420000   0.000000   0.000000   4.000000   2.0000  \n",
      "75%     3.610000  18.600000   1.000000   1.000000   4.000000   4.0000  \n",
      "max     5.424000  22.900000   1.000000   1.000000   5.000000   8.0000  \n"
     ]
    }
   ],
   "source": [
    "df = pd.read_csv('cars.csv')\n",
    "print(df.describe())"
   ]
  },
  {
   "cell_type": "markdown",
   "id": "db78378f",
   "metadata": {},
   "source": [
    "5. Write a method that will take a column name as argument and return the\n",
    "name of the column with which the given column has the highest\n",
    "correlation.\n",
    "The data to be used is the cars dataset.\n",
    "The returned value should not the column named that was passed as the\n",
    "parameters, e.g. : get_max_correlated_column('mpg') -> should return 'drat"
   ]
  },
  {
   "cell_type": "code",
   "execution_count": 16,
   "id": "729a60cf",
   "metadata": {},
   "outputs": [
    {
     "name": "stdout",
     "output_type": "stream",
     "text": [
      "drat\n"
     ]
    }
   ],
   "source": [
    "def get_max_correlated_column(column_name):\n",
    "    df = pd.read_csv('cars.csv')\n",
    "    correlations = df.corr()[column_name]\n",
    "\n",
    "    max_correlated_column = correlations.drop(column_name).idxmax()\n",
    "\n",
    "    return max_correlated_column\n",
    "\n",
    "max_correlated = get_max_correlated_column('mpg')\n",
    "print(max_correlated)"
   ]
  },
  {
   "cell_type": "code",
   "execution_count": null,
   "id": "5c0f013d",
   "metadata": {},
   "outputs": [],
   "source": []
  }
 ],
 "metadata": {
  "kernelspec": {
   "display_name": "Python 3 (ipykernel)",
   "language": "python",
   "name": "python3"
  },
  "language_info": {
   "codemirror_mode": {
    "name": "ipython",
    "version": 3
   },
   "file_extension": ".py",
   "mimetype": "text/x-python",
   "name": "python",
   "nbconvert_exporter": "python",
   "pygments_lexer": "ipython3",
   "version": "3.9.13"
  }
 },
 "nbformat": 4,
 "nbformat_minor": 5
}
