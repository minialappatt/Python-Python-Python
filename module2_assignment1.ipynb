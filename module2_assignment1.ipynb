{
 "cells": [
  {
   "cell_type": "markdown",
   "id": "db7c6b35",
   "metadata": {},
   "source": [
    "1. With the help of try and inbuilt exception, display the exception."
   ]
  },
  {
   "cell_type": "code",
   "execution_count": 1,
   "id": "2700902b",
   "metadata": {},
   "outputs": [
    {
     "name": "stdout",
     "output_type": "stream",
     "text": [
      "5.0\n",
      "Exception: division by zero\n",
      "None\n"
     ]
    }
   ],
   "source": [
    "#  function that will raise an exception\n",
    "def divide(x, y):\n",
    "    try:\n",
    "        result = x / y\n",
    "    except ZeroDivisionError as e:\n",
    "        print(\"Exception:\", e)\n",
    "    else:\n",
    "        return result\n",
    "\n",
    "# Call \n",
    "print(divide(10, 2))  \n",
    "print(divide(10, 0)) "
   ]
  },
  {
   "cell_type": "markdown",
   "id": "59b85607",
   "metadata": {},
   "source": [
    "2. Take two user inputs and pass those input variables in a try block. If the user input is 0, then\n",
    "throw the ZeroDivisionError exception."
   ]
  },
  {
   "cell_type": "code",
   "execution_count": 4,
   "id": "278cca2b",
   "metadata": {},
   "outputs": [
    {
     "name": "stdout",
     "output_type": "stream",
     "text": [
      "Enter the first number: 22\n",
      "Enter the second number: 3\n",
      "Result: 7.333333333333333\n"
     ]
    }
   ],
   "source": [
    "num1 = int(input(\"Enter the first number: \"))\n",
    "num2 = int(input(\"Enter the second number: \"))\n",
    "try:\n",
    "    # Check if either input is 0\n",
    "    if num1 == 0 or num2 == 0:\n",
    "        raise ZeroDivisionError(\"Cannot divide by zero\")\n",
    "    else:\n",
    "        result = num1 / num2\n",
    "        print(\"Result:\", result)\n",
    "except ZeroDivisionError as e:\n",
    "    print(\"Exception:\", e)"
   ]
  },
  {
   "cell_type": "markdown",
   "id": "7dce3efd",
   "metadata": {},
   "source": [
    "3. Import math package and with the help of math package, print – math.exp(50000). Now use\n",
    "the inbuilt OverflowError exception on the math.exp(), and print the exception.\n"
   ]
  },
  {
   "cell_type": "code",
   "execution_count": 7,
   "id": "23157e2e",
   "metadata": {},
   "outputs": [
    {
     "name": "stdout",
     "output_type": "stream",
     "text": [
      "Exception: math range error\n"
     ]
    }
   ],
   "source": [
    "import math\n",
    "\n",
    "try:\n",
    "    result = math.exp(50000)\n",
    "    print(result)\n",
    "except OverflowError as e:\n",
    "    print(\"Exception:\", e)"
   ]
  },
  {
   "cell_type": "markdown",
   "id": "0b7bc33c",
   "metadata": {},
   "source": [
    "4. Now install the ‘termcolor’ package in the anaconda prompt, and import that package to\n",
    "provide the colors to the print statement in Jupyter Notebook."
   ]
  },
  {
   "cell_type": "markdown",
   "id": "abc6f762",
   "metadata": {},
   "source": [
    "##Open Anaconda Prompt or your terminal/command prompt.\n",
    "Type 'conda install termcolor' and hit Enter to install the termcolor package.\n",
    "Once installation is complete, open Jupyter Notebook."
   ]
  },
  {
   "cell_type": "code",
   "execution_count": 3,
   "id": "488e7f26",
   "metadata": {},
   "outputs": [
    {
     "name": "stdout",
     "output_type": "stream",
     "text": [
      "Hello\n"
     ]
    }
   ],
   "source": [
    "import termcolor\n",
    "print(termcolor.colored(\"Hello\", color=\"red\"))"
   ]
  },
  {
   "cell_type": "markdown",
   "id": "8e005ef6",
   "metadata": {},
   "source": [
    "5. Create your own exception with the help of class and functions."
   ]
  },
  {
   "cell_type": "code",
   "execution_count": 4,
   "id": "e7955e6a",
   "metadata": {},
   "outputs": [
    {
     "name": "stdout",
     "output_type": "stream",
     "text": [
      "Exception caught: Cannot divide by zero!\n"
     ]
    }
   ],
   "source": [
    "class MyException(Exception):\n",
    "    pass\n",
    "\n",
    "def divide_numbers(a, b):\n",
    "    if b == 0:\n",
    "        raise MyException(\"Cannot divide by zero!\")\n",
    "    else:\n",
    "        return a / b\n",
    "\n",
    "try:\n",
    "    result = divide_numbers(10, 0)\n",
    "except MyException as e:\n",
    "    print(\"Exception caught:\", e)"
   ]
  },
  {
   "cell_type": "code",
   "execution_count": null,
   "id": "91ffe6d0",
   "metadata": {},
   "outputs": [],
   "source": []
  }
 ],
 "metadata": {
  "kernelspec": {
   "display_name": "Python 3 (ipykernel)",
   "language": "python",
   "name": "python3"
  },
  "language_info": {
   "codemirror_mode": {
    "name": "ipython",
    "version": 3
   },
   "file_extension": ".py",
   "mimetype": "text/x-python",
   "name": "python",
   "nbconvert_exporter": "python",
   "pygments_lexer": "ipython3",
   "version": "3.9.13"
  }
 },
 "nbformat": 4,
 "nbformat_minor": 5
}
