{
 "cells": [
  {
   "cell_type": "markdown",
   "id": "0605cb0a",
   "metadata": {},
   "source": [
    "1. Create a function that takes dimensions as tuples e.g.(3, 3) and a numeric value and returns a Numpy array of the given dimension filled with the given value e.g.: solve((3, 3), 5) will return\n",
    "[ [5, 5, 5], [5, 5, 5], [5, 5, 5] ]"
   ]
  },
  {
   "cell_type": "code",
   "execution_count": 1,
   "id": "535b9da4",
   "metadata": {},
   "outputs": [
    {
     "name": "stdout",
     "output_type": "stream",
     "text": [
      "[[5 5 5]\n",
      " [5 5 5]\n",
      " [5 5 5]]\n"
     ]
    }
   ],
   "source": [
    "import numpy as np\n",
    "\n",
    "def solve(dimensions, value):\n",
    "    # Create the NumPy array filled with the given value\n",
    "    array = np.full(dimensions, value)\n",
    "    return array\n",
    "\n",
    "# Example usage\n",
    "result = solve((3, 3), 5)\n",
    "print(result)"
   ]
  },
  {
   "cell_type": "markdown",
   "id": "2d17a614",
   "metadata": {},
   "source": [
    "2. Create a method that takes n Numpy arrays of same dimensions sums them and return the answer."
   ]
  },
  {
   "cell_type": "code",
   "execution_count": 2,
   "id": "fd130a14",
   "metadata": {},
   "outputs": [
    {
     "name": "stdout",
     "output_type": "stream",
     "text": [
      "[[15 18]\n",
      " [21 24]]\n"
     ]
    }
   ],
   "source": [
    "def sum_arrays(*arrays):\n",
    "    # Check if at least one array is provided\n",
    "    if len(arrays) == 0:\n",
    "        raise ValueError(\"At least one array must be provided.\")\n",
    "\n",
    "    # Check if all arrays have the same shape\n",
    "    shape = arrays[0].shape\n",
    "    if any(arr.shape != shape for arr in arrays):\n",
    "        raise ValueError(\"All arrays must have the same shape.\")\n",
    "\n",
    "    # Perform element-wise sum of the arrays\n",
    "    result = np.sum(arrays, axis=0)\n",
    "\n",
    "    return result\n",
    "\n",
    "# Example usage\n",
    "array1 = np.array([[1, 2], [3, 4]])\n",
    "array2 = np.array([[5, 6], [7, 8]])\n",
    "array3 = np.array([[9, 10], [11, 12]])\n",
    "\n",
    "result = sum_arrays(array1, array2, array3)\n",
    "print(result)"
   ]
  },
  {
   "cell_type": "markdown",
   "id": "b66fc803",
   "metadata": {},
   "source": [
    "3. Given a 2 D Array of N X M Dimension, Write a function that accepts this array as well as two numbers N and M. The method should return the top-left N X M sub matrix e.g:\n",
    "[ [1, 2, 3], [4, 5, 6], [7, 8, 9], ] top_left_sub_matrix (matrix, 2, 2) -> should return: [ [1, 2] [4, 5] ]"
   ]
  },
  {
   "cell_type": "code",
   "execution_count": 3,
   "id": "6c727fbd",
   "metadata": {},
   "outputs": [
    {
     "name": "stdout",
     "output_type": "stream",
     "text": [
      "[[1 2 3]\n",
      " [4 5 6]\n",
      " [7 8 9]]\n",
      "[[1 2]\n",
      " [4 5]]\n"
     ]
    }
   ],
   "source": [
    "def top_left_sub_matrix(matrix, N, M):\n",
    "    # Extract the top-left submatrix\n",
    "    sub_matrix = matrix[:N, :M]\n",
    "    return sub_matrix\n",
    "\n",
    "# Example usage\n",
    "matrix = np.array([[1, 2, 3], [4, 5, 6], [7, 8, 9]])\n",
    "print(matrix)\n",
    "result = top_left_sub_matrix(matrix, 2, 2)\n",
    "print(result)"
   ]
  },
  {
   "cell_type": "markdown",
   "id": "a14dcaa1",
   "metadata": {},
   "source": [
    "4. Given a 2 D Array of N X M Dimension, Write a function that accepts this array as well as two numbers N and M The method should return the bottom-right N X M sub matrix e.g.:\n",
    "[ [1, 2, 3], [4, 5, 6], [7, 8, 9], ] sub_matrix(matrix, 1, 1) -> should return : (Keep in mind these arrays are zero indexed) [ [5, 6] [8, 9] ]"
   ]
  },
  {
   "cell_type": "code",
   "execution_count": 6,
   "id": "7c048f9a",
   "metadata": {},
   "outputs": [
    {
     "name": "stdout",
     "output_type": "stream",
     "text": [
      "[[5 6]\n",
      " [8 9]]\n"
     ]
    }
   ],
   "source": [
    "import numpy as np\n",
    "\n",
    "def sub_matrix(matrix, N, M):\n",
    "    # Get the dimensions of the original matrix\n",
    "    rows, cols = matrix.shape\n",
    "\n",
    "    # Calculate the starting indices for the submatrix\n",
    "    start_row = rows - N\n",
    "    start_col = cols - M\n",
    "\n",
    "    # Extract the bottom-right submatrix\n",
    "    sub_matrix = matrix[start_row:, start_col:]\n",
    "    return sub_matrix\n",
    "\n",
    "# Example usage\n",
    "matrix = np.array([[1, 2, 3], [4, 5, 6], [7, 8, 9]])\n",
    "result = sub_matrix(matrix, 2,2)\n",
    "print(result)\n"
   ]
  },
  {
   "cell_type": "markdown",
   "id": "e1d4ea2e",
   "metadata": {},
   "source": [
    "5. Given a 1 D Numpy Array. Write a function that accepts this array as parameters. The method should return a dictionary with 'mean' and 'std_dev' as key and array's mean and array's standard deviation as values:\n",
    "[1, 1, 1] solution(arr) -> should return : {'mean': 1.0, 'std_dev': 0.0}"
   ]
  },
  {
   "cell_type": "code",
   "execution_count": 7,
   "id": "340b029c",
   "metadata": {},
   "outputs": [
    {
     "name": "stdout",
     "output_type": "stream",
     "text": [
      "{'mean': 1.0, 'std_dev': 0.0}\n"
     ]
    }
   ],
   "source": [
    "import numpy as np\n",
    "\n",
    "def solution(arr):\n",
    "    # Calculate the mean and standard deviation\n",
    "    mean_value = np.mean(arr)\n",
    "    std_dev_value = np.std(arr)\n",
    "\n",
    "    # Create the dictionary\n",
    "    result = {'mean': mean_value, 'std_dev': std_dev_value}\n",
    "\n",
    "    return result\n",
    "\n",
    "# Example usage\n",
    "array = np.array([1, 1, 1])\n",
    "result = solution(array)\n",
    "print(result)"
   ]
  },
  {
   "cell_type": "code",
   "execution_count": null,
   "id": "75265d57",
   "metadata": {},
   "outputs": [],
   "source": []
  }
 ],
 "metadata": {
  "kernelspec": {
   "display_name": "Python 3 (ipykernel)",
   "language": "python",
   "name": "python3"
  },
  "language_info": {
   "codemirror_mode": {
    "name": "ipython",
    "version": 3
   },
   "file_extension": ".py",
   "mimetype": "text/x-python",
   "name": "python",
   "nbconvert_exporter": "python",
   "pygments_lexer": "ipython3",
   "version": "3.9.13"
  }
 },
 "nbformat": 4,
 "nbformat_minor": 5
}
