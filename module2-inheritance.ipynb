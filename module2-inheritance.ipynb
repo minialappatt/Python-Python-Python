{
 "cells": [
  {
   "cell_type": "code",
   "execution_count": null,
   "id": "a029d5c3",
   "metadata": {},
   "outputs": [],
   "source": [
    "1. Create a class named parent_Class and inside the class, initialize a global variable num as 10.\n",
    "a. Create another class named child_Class and this class should be inherited from the\n",
    "parent class.\n",
    "b. Now create an object for the child_Class and with the help of child_Class object, display\n",
    "the value of ‘num’."
   ]
  },
  {
   "cell_type": "code",
   "execution_count": null,
   "id": "3d74092b",
   "metadata": {},
   "outputs": [],
   "source": [
    "2. Create three class named A, B, and C.\n",
    "a. Inside the A class, create a constructor. Inside the constructor, initilize 2 global variablesname\n",
    "and age.\n",
    "b. After initializing the global variables inside the constructor, now create a funtion named\n",
    "‘details’ and that function should return the ‘name’ variable.\n",
    "c. Inside the B class, create a constructor. Inside the contructor, initialize 2 global veriablesname\n",
    "and id.\n",
    "d. After initializing the global variables inside the constructor, now create a funtion named\n",
    "‘details’ and that function should return the ‘name’ variable.\n",
    "e. The C class should inherit from class A, and B. Inside the class C, create a constructor,\n",
    "and inside the constructor, call the contructor of class A.\n",
    "f. Now, create a method inside the class C, as get_details, and this fucntion should return\n",
    "the vaue of name.\n",
    "g. Atlast, create an object of class C, and with the help of the object, call the get_details()."
   ]
  },
  {
   "cell_type": "code",
   "execution_count": null,
   "id": "69233b9f",
   "metadata": {},
   "outputs": [],
   "source": [
    "3. Create a class named ‘Sub1’, inside the class, generate a user defined function named ‘first’\n",
    "and inside the function, pass the following statement in the print()- ‘This is the first function\n",
    "from Sub 1 class’.\n",
    "a. Now create another class named ‘Sub2’, and inside the class, create a function\n",
    "named ‘second’, and pass the following message in the print()- ‘This is the\n",
    "second function from the Sub 2 class’.\n",
    "b. After that, create another class named ‘Super’ and inside that class, create a\n",
    "method named ‘final’, and pass the below message in the print()- ‘This is the\n",
    "final method from the super class’.\n",
    "c. Now, create an object for the Super class and call all the 3 user defined\n",
    "methods, i.e., first(), second(), and final()."
   ]
  },
  {
   "cell_type": "code",
   "execution_count": null,
   "id": "07c3fa6b",
   "metadata": {},
   "outputs": [],
   "source": [
    "4. Create a class named ‘Parent’, and inside the class, create a function named ‘fun1’ and pass\n",
    "the following message in the print()- ‘This is the message from the fun1’.\n",
    "a. Now create a class named ‘Child1’ and inside the class, create a method named ‘fun2’\n",
    "and pass the following message in the print()- ‘This is the message from the fun2’.\n",
    "b. After that, create another class named ‘Child2’ and inside the class, create a method\n",
    "named ‘fun3’ and pass the following message in the print()- ‘This is the message from\n",
    "the fun3’.\n",
    "c. Now, create an object of Child2 class and with the help of the object, call the ‘fun1’\n",
    "method from the ‘Parent’ class."
   ]
  },
  {
   "cell_type": "code",
   "execution_count": null,
   "id": "f9315be0",
   "metadata": {},
   "outputs": [],
   "source": [
    "5. Create a class named ‘Parent’, and inside the class, create a function named ‘fun1’ and pass\n",
    "the following message in the print()- ‘This is the message from the fun1’.\n",
    "a. Now create a class named ‘Child’ and inside the class, create a method named ‘fun2’ and\n",
    "pass the following message in the print()- ‘This is the message from the fun2’.\n",
    "b. After that, create another class named ‘Hybrid’ and inside the class, create a method\n",
    "named ‘fun3’ and pass the following message in the print()- ‘This is the message from\n",
    "the fun3’.\n",
    "c. Now, create an object of Hybrid class and with the help of the object, call the ‘fun1’,\n",
    "‘fun2’, and ‘fun3’ methods."
   ]
  }
 ],
 "metadata": {
  "kernelspec": {
   "display_name": "Python 3 (ipykernel)",
   "language": "python",
   "name": "python3"
  },
  "language_info": {
   "codemirror_mode": {
    "name": "ipython",
    "version": 3
   },
   "file_extension": ".py",
   "mimetype": "text/x-python",
   "name": "python",
   "nbconvert_exporter": "python",
   "pygments_lexer": "ipython3",
   "version": "3.9.13"
  }
 },
 "nbformat": 4,
 "nbformat_minor": 5
}
