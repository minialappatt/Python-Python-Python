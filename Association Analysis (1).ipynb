{
 "cells": [
  {
   "cell_type": "code",
   "execution_count": 1,
   "id": "83222130",
   "metadata": {},
   "outputs": [
    {
     "name": "stdout",
     "output_type": "stream",
     "text": [
      "Requirement already satisfied: apyori in c:\\users\\amit.kumar02\\miniconda3\\envs\\poc\\lib\\site-packages (1.1.2)\n"
     ]
    },
    {
     "name": "stderr",
     "output_type": "stream",
     "text": [
      "\n",
      "[notice] A new release of pip available: 22.3.1 -> 23.2.1\n",
      "[notice] To update, run: python.exe -m pip install --upgrade pip\n"
     ]
    }
   ],
   "source": [
    "!pip install apyori"
   ]
  },
  {
   "cell_type": "code",
   "execution_count": 2,
   "id": "15f4b43b",
   "metadata": {},
   "outputs": [],
   "source": [
    "import pandas as pd \n",
    "import numpy as np \n",
    "from apyori import apriori"
   ]
  },
  {
   "cell_type": "code",
   "execution_count": 5,
   "id": "803f5bac",
   "metadata": {},
   "outputs": [
    {
     "data": {
      "text/html": [
       "<div>\n",
       "<style scoped>\n",
       "    .dataframe tbody tr th:only-of-type {\n",
       "        vertical-align: middle;\n",
       "    }\n",
       "\n",
       "    .dataframe tbody tr th {\n",
       "        vertical-align: top;\n",
       "    }\n",
       "\n",
       "    .dataframe thead th {\n",
       "        text-align: right;\n",
       "    }\n",
       "</style>\n",
       "<table border=\"1\" class=\"dataframe\">\n",
       "  <thead>\n",
       "    <tr style=\"text-align: right;\">\n",
       "      <th></th>\n",
       "      <th>0</th>\n",
       "      <th>1</th>\n",
       "      <th>2</th>\n",
       "      <th>3</th>\n",
       "      <th>4</th>\n",
       "      <th>5</th>\n",
       "      <th>6</th>\n",
       "      <th>7</th>\n",
       "      <th>8</th>\n",
       "      <th>9</th>\n",
       "      <th>10</th>\n",
       "      <th>11</th>\n",
       "      <th>12</th>\n",
       "      <th>13</th>\n",
       "      <th>14</th>\n",
       "      <th>15</th>\n",
       "      <th>16</th>\n",
       "      <th>17</th>\n",
       "      <th>18</th>\n",
       "      <th>19</th>\n",
       "    </tr>\n",
       "  </thead>\n",
       "  <tbody>\n",
       "    <tr>\n",
       "      <th>0</th>\n",
       "      <td>The Revenant</td>\n",
       "      <td>13 Hours</td>\n",
       "      <td>Allied</td>\n",
       "      <td>Zootopia</td>\n",
       "      <td>Jigsaw</td>\n",
       "      <td>Achorman</td>\n",
       "      <td>Grinch</td>\n",
       "      <td>Fast and Furious</td>\n",
       "      <td>Ghostbusters</td>\n",
       "      <td>Wolverine</td>\n",
       "      <td>Mad Max</td>\n",
       "      <td>John Wick</td>\n",
       "      <td>La La Land</td>\n",
       "      <td>The Good Dunosaur</td>\n",
       "      <td>Ninja Turtles</td>\n",
       "      <td>The Good Dunosaur Bad Moms</td>\n",
       "      <td>2 Guns</td>\n",
       "      <td>Inside Out</td>\n",
       "      <td>Valerian</td>\n",
       "      <td>Spiderman 3</td>\n",
       "    </tr>\n",
       "    <tr>\n",
       "      <th>1</th>\n",
       "      <td>Beirut</td>\n",
       "      <td>Martian</td>\n",
       "      <td>Get Out</td>\n",
       "      <td>NaN</td>\n",
       "      <td>NaN</td>\n",
       "      <td>NaN</td>\n",
       "      <td>NaN</td>\n",
       "      <td>NaN</td>\n",
       "      <td>NaN</td>\n",
       "      <td>NaN</td>\n",
       "      <td>NaN</td>\n",
       "      <td>NaN</td>\n",
       "      <td>NaN</td>\n",
       "      <td>NaN</td>\n",
       "      <td>NaN</td>\n",
       "      <td>NaN</td>\n",
       "      <td>NaN</td>\n",
       "      <td>NaN</td>\n",
       "      <td>NaN</td>\n",
       "      <td>NaN</td>\n",
       "    </tr>\n",
       "    <tr>\n",
       "      <th>2</th>\n",
       "      <td>Deadpool</td>\n",
       "      <td>NaN</td>\n",
       "      <td>NaN</td>\n",
       "      <td>NaN</td>\n",
       "      <td>NaN</td>\n",
       "      <td>NaN</td>\n",
       "      <td>NaN</td>\n",
       "      <td>NaN</td>\n",
       "      <td>NaN</td>\n",
       "      <td>NaN</td>\n",
       "      <td>NaN</td>\n",
       "      <td>NaN</td>\n",
       "      <td>NaN</td>\n",
       "      <td>NaN</td>\n",
       "      <td>NaN</td>\n",
       "      <td>NaN</td>\n",
       "      <td>NaN</td>\n",
       "      <td>NaN</td>\n",
       "      <td>NaN</td>\n",
       "      <td>NaN</td>\n",
       "    </tr>\n",
       "    <tr>\n",
       "      <th>3</th>\n",
       "      <td>X-Men</td>\n",
       "      <td>Allied</td>\n",
       "      <td>NaN</td>\n",
       "      <td>NaN</td>\n",
       "      <td>NaN</td>\n",
       "      <td>NaN</td>\n",
       "      <td>NaN</td>\n",
       "      <td>NaN</td>\n",
       "      <td>NaN</td>\n",
       "      <td>NaN</td>\n",
       "      <td>NaN</td>\n",
       "      <td>NaN</td>\n",
       "      <td>NaN</td>\n",
       "      <td>NaN</td>\n",
       "      <td>NaN</td>\n",
       "      <td>NaN</td>\n",
       "      <td>NaN</td>\n",
       "      <td>NaN</td>\n",
       "      <td>NaN</td>\n",
       "      <td>NaN</td>\n",
       "    </tr>\n",
       "    <tr>\n",
       "      <th>4</th>\n",
       "      <td>Ninja Turtles</td>\n",
       "      <td>Moana</td>\n",
       "      <td>Ghost in the Shell</td>\n",
       "      <td>Ralph Breaks the Internet</td>\n",
       "      <td>John Wick</td>\n",
       "      <td>NaN</td>\n",
       "      <td>NaN</td>\n",
       "      <td>NaN</td>\n",
       "      <td>NaN</td>\n",
       "      <td>NaN</td>\n",
       "      <td>NaN</td>\n",
       "      <td>NaN</td>\n",
       "      <td>NaN</td>\n",
       "      <td>NaN</td>\n",
       "      <td>NaN</td>\n",
       "      <td>NaN</td>\n",
       "      <td>NaN</td>\n",
       "      <td>NaN</td>\n",
       "      <td>NaN</td>\n",
       "      <td>NaN</td>\n",
       "    </tr>\n",
       "  </tbody>\n",
       "</table>\n",
       "</div>"
      ],
      "text/plain": [
       "              0         1                   2                          3   \\\n",
       "0   The Revenant  13 Hours              Allied                   Zootopia   \n",
       "1         Beirut   Martian             Get Out                        NaN   \n",
       "2       Deadpool       NaN                 NaN                        NaN   \n",
       "3          X-Men    Allied                 NaN                        NaN   \n",
       "4  Ninja Turtles     Moana  Ghost in the Shell  Ralph Breaks the Internet   \n",
       "\n",
       "          4         5       6                 7             8          9   \\\n",
       "0     Jigsaw  Achorman  Grinch  Fast and Furious  Ghostbusters  Wolverine   \n",
       "1        NaN       NaN     NaN               NaN           NaN        NaN   \n",
       "2        NaN       NaN     NaN               NaN           NaN        NaN   \n",
       "3        NaN       NaN     NaN               NaN           NaN        NaN   \n",
       "4  John Wick       NaN     NaN               NaN           NaN        NaN   \n",
       "\n",
       "        10         11          12                 13             14  \\\n",
       "0  Mad Max  John Wick  La La Land  The Good Dunosaur  Ninja Turtles   \n",
       "1      NaN        NaN         NaN                NaN            NaN   \n",
       "2      NaN        NaN         NaN                NaN            NaN   \n",
       "3      NaN        NaN         NaN                NaN            NaN   \n",
       "4      NaN        NaN         NaN                NaN            NaN   \n",
       "\n",
       "                           15      16          17        18           19  \n",
       "0  The Good Dunosaur Bad Moms  2 Guns  Inside Out  Valerian  Spiderman 3  \n",
       "1                         NaN     NaN         NaN       NaN          NaN  \n",
       "2                         NaN     NaN         NaN       NaN          NaN  \n",
       "3                         NaN     NaN         NaN       NaN          NaN  \n",
       "4                         NaN     NaN         NaN       NaN          NaN  "
      ]
     },
     "execution_count": 5,
     "metadata": {},
     "output_type": "execute_result"
    }
   ],
   "source": [
    "movie_data = pd.read_csv('data/movie_dataset.csv',header=None)\n",
    "movie_data.head()"
   ]
  },
  {
   "cell_type": "code",
   "execution_count": 8,
   "id": "cee548ce",
   "metadata": {},
   "outputs": [
    {
     "data": {
      "text/plain": [
       "7501"
      ]
     },
     "execution_count": 8,
     "metadata": {},
     "output_type": "execute_result"
    }
   ],
   "source": [
    "movie_data.shape[0] "
   ]
  },
  {
   "cell_type": "code",
   "execution_count": 10,
   "id": "9f5c9232",
   "metadata": {},
   "outputs": [
    {
     "data": {
      "text/plain": [
       "'13 Hours'"
      ]
     },
     "execution_count": 10,
     "metadata": {},
     "output_type": "execute_result"
    }
   ],
   "source": [
    "movie_data.values[0,1]"
   ]
  },
  {
   "cell_type": "code",
   "execution_count": 19,
   "id": "a3673a46",
   "metadata": {},
   "outputs": [],
   "source": [
    "records = []\n",
    "\n",
    "for i in range(movie_data.shape[0]):\n",
    "    records.append([str(movie_data.values[i,j]) for j in range(20)])"
   ]
  },
  {
   "cell_type": "code",
   "execution_count": 24,
   "id": "21bf2f55",
   "metadata": {},
   "outputs": [
    {
     "data": {
      "text/plain": [
       "['Beirut',\n",
       " 'Martian',\n",
       " 'Get Out',\n",
       " 'nan',\n",
       " 'nan',\n",
       " 'nan',\n",
       " 'nan',\n",
       " 'nan',\n",
       " 'nan',\n",
       " 'nan',\n",
       " 'nan',\n",
       " 'nan',\n",
       " 'nan',\n",
       " 'nan',\n",
       " 'nan',\n",
       " 'nan',\n",
       " 'nan',\n",
       " 'nan',\n",
       " 'nan',\n",
       " 'nan']"
      ]
     },
     "execution_count": 24,
     "metadata": {},
     "output_type": "execute_result"
    }
   ],
   "source": [
    "records[1]"
   ]
  },
  {
   "cell_type": "code",
   "execution_count": 20,
   "id": "9d777bda",
   "metadata": {},
   "outputs": [],
   "source": [
    "association_rules = apriori(records,min_support=0.0053,min_confidence=0.20,min_lift=3,min_length=2)"
   ]
  },
  {
   "cell_type": "code",
   "execution_count": 21,
   "id": "c4621597",
   "metadata": {},
   "outputs": [],
   "source": [
    "association_results = list(association_rules)"
   ]
  },
  {
   "cell_type": "code",
   "execution_count": 27,
   "id": "db69efa7",
   "metadata": {},
   "outputs": [
    {
     "data": {
      "text/plain": [
       "RelationRecord(items=frozenset({'Jumanji', 'Kung Fu Panda'}), support=0.015997866951073192, ordered_statistics=[OrderedStatistic(items_base=frozenset({'Kung Fu Panda'}), items_add=frozenset({'Jumanji'}), confidence=0.3234501347708895, lift=3.2919938411349285)])"
      ]
     },
     "execution_count": 27,
     "metadata": {},
     "output_type": "execute_result"
    }
   ],
   "source": [
    "association_results[2]"
   ]
  },
  {
   "cell_type": "code",
   "execution_count": null,
   "id": "9b9fe095",
   "metadata": {},
   "outputs": [],
   "source": []
  }
 ],
 "metadata": {
  "kernelspec": {
   "display_name": "Python 3",
   "language": "python",
   "name": "python3"
  },
  "language_info": {
   "codemirror_mode": {
    "name": "ipython",
    "version": 3
   },
   "file_extension": ".py",
   "mimetype": "text/x-python",
   "name": "python",
   "nbconvert_exporter": "python",
   "pygments_lexer": "ipython3",
   "version": "3.7.0"
  }
 },
 "nbformat": 4,
 "nbformat_minor": 5
}
