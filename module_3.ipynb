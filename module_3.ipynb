{
 "cells": [
  {
   "cell_type": "markdown",
   "id": "91084aa7",
   "metadata": {},
   "source": [
    "Tasks to be performed:\n",
    "1. Create a table in excel, table should have 2 columns named x and y.\n",
    "   a. ‘x’ column should have numbers from 1-5.\n",
    "   b. ‘y’ should have numbers 2,4,5,4,2\n",
    "   c. Now calculate the mean of columns x and y.\n",
    "   d. Calculate the mode of column x.\n",
    "   e. Calculate the standard deviation of column y.\n",
    "   f. Atlast calculate the range of columns x and y seperatly."
   ]
  },
  {
   "cell_type": "code",
   "execution_count": 28,
   "id": "5562160e",
   "metadata": {},
   "outputs": [
    {
     "name": "stdout",
     "output_type": "stream",
     "text": [
      "mean of x and y    \n",
      "x    3.0\n",
      "y    3.4\n",
      "z    2.6\n",
      "dtype: float64\n",
      "mode of x     \n",
      "   x\n",
      "0  1\n",
      "1  2\n",
      "2  3\n",
      "3  4\n",
      "4  5\n",
      "stad Deviation of 'y'\n",
      "1.3416407864998738\n",
      "range of x  \n",
      "4\n",
      "range of y  \n",
      "3\n"
     ]
    }
   ],
   "source": [
    "import numpy as np\n",
    "import pandas as pd\n",
    "data=pd.read_csv('statistics-assign.csv')\n",
    "data\n",
    "data_mode_x=data[['x']].mode()\n",
    "std_dev_y=data['y'].std()\n",
    "range_x=data['x'].max()-data['x'].min()\n",
    "range_y=data['y'].max()-data['y'].min()\n",
    "print(\"mean of x and y    \")\n",
    "print(np.mean(data,axis=0))\n",
    "print(\"mode of x     \")\n",
    "print(data_mode_x)\n",
    "print(\"stad Deviation of 'y'\")\n",
    "print(std_dev_y)\n",
    "print(\"range of x  \")\n",
    "print(range_x)\n",
    "print(\"range of y  \")\n",
    "print(range_y)"
   ]
  },
  {
   "cell_type": "code",
   "execution_count": null,
   "id": "f0414ca5",
   "metadata": {},
   "outputs": [],
   "source": []
  }
 ],
 "metadata": {
  "kernelspec": {
   "display_name": "Python 3 (ipykernel)",
   "language": "python",
   "name": "python3"
  },
  "language_info": {
   "codemirror_mode": {
    "name": "ipython",
    "version": 3
   },
   "file_extension": ".py",
   "mimetype": "text/x-python",
   "name": "python",
   "nbconvert_exporter": "python",
   "pygments_lexer": "ipython3",
   "version": "3.9.13"
  }
 },
 "nbformat": 4,
 "nbformat_minor": 5
}
