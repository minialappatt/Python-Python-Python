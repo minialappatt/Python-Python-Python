{
 "cells": [
  {
   "cell_type": "code",
   "execution_count": null,
   "id": "3e368fe6",
   "metadata": {},
   "outputs": [],
   "source": [
    "1. Create a python file named Module.\n",
    "a. Inside the file, define 4 methods named – addition, subtraction, multiplication, and division.\n",
    "b. Each method should only accept 2 arguments and should return the result of operation performed in each method.\n",
    "For e.g., addition() should return the sum of two arguments.\n",
    "c. Save the Module file in .py format."
   ]
  },
  {
   "cell_type": "code",
   "execution_count": null,
   "id": "fb336407",
   "metadata": {},
   "outputs": [],
   "source": [
    "2. Open a new python file and import the Module.py file.\n",
    "a. Now call the 4 methods from the Module.py file, i.e., addition(), subtraction(), multiplication(), and division()."
   ]
  },
  {
   "cell_type": "code",
   "execution_count": null,
   "id": "af152d84",
   "metadata": {},
   "outputs": [],
   "source": [
    "3. From the Module file, import only the addition() and pass the arguments so that it can display the result from the method."
   ]
  },
  {
   "cell_type": "code",
   "execution_count": null,
   "id": "7c69b684",
   "metadata": {},
   "outputs": [],
   "source": [
    "4. From the Module file, import only the subtraction() and pass the arguments so that it can display the result from the method."
   ]
  },
  {
   "cell_type": "code",
   "execution_count": null,
   "id": "9242e9a8",
   "metadata": {},
   "outputs": [],
   "source": [
    "5. From the Module file, import both the multiplication() and division() and pass the arguments so that it can display the result from the methods."
   ]
  }
 ],
 "metadata": {
  "kernelspec": {
   "display_name": "Python 3 (ipykernel)",
   "language": "python",
   "name": "python3"
  },
  "language_info": {
   "codemirror_mode": {
    "name": "ipython",
    "version": 3
   },
   "file_extension": ".py",
   "mimetype": "text/x-python",
   "name": "python",
   "nbconvert_exporter": "python",
   "pygments_lexer": "ipython3",
   "version": "3.9.13"
  }
 },
 "nbformat": 4,
 "nbformat_minor": 5
}
